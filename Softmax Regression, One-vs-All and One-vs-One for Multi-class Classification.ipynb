{
 "cells": [
  {
   "cell_type": "code",
   "execution_count": 1,
   "id": "00aac919-487e-41b5-a15a-5a4a2a30431a",
   "metadata": {},
   "outputs": [],
   "source": [
    "#  **Softmax Regression, One-vs-All and One-vs-One for Multi-class Classification**\n"
   ]
  },
  {
   "cell_type": "code",
   "execution_count": 2,
   "id": "a675855a-27fd-487a-ae97-f2f06b589e61",
   "metadata": {},
   "outputs": [
    {
     "name": "stdout",
     "output_type": "stream",
     "text": [
      "Collecting scikit-learn==1.0.2\n",
      "  Downloading scikit-learn-1.0.2.tar.gz (6.7 MB)\n",
      "     ---------------------------------------- 0.0/6.7 MB ? eta -:--:--\n",
      "     ---------------------------------------- 0.0/6.7 MB ? eta -:--:--\n",
      "     ---------------------------------------- 0.0/6.7 MB 435.7 kB/s eta 0:00:16\n",
      "     ---------------------------------------- 0.0/6.7 MB 393.8 kB/s eta 0:00:17\n",
      "     ---------------------------------------- 0.1/6.7 MB 573.4 kB/s eta 0:00:12\n",
      "      --------------------------------------- 0.1/6.7 MB 714.4 kB/s eta 0:00:10\n",
      "     - -------------------------------------- 0.2/6.7 MB 871.5 kB/s eta 0:00:08\n",
      "     - -------------------------------------- 0.3/6.7 MB 1.0 MB/s eta 0:00:07\n",
      "     -- ------------------------------------- 0.4/6.7 MB 1.2 MB/s eta 0:00:06\n",
      "     --- ------------------------------------ 0.5/6.7 MB 1.3 MB/s eta 0:00:05\n",
      "     --- ------------------------------------ 0.6/6.7 MB 1.4 MB/s eta 0:00:05\n",
      "     ---- ----------------------------------- 0.7/6.7 MB 1.5 MB/s eta 0:00:04\n",
      "     ----- ---------------------------------- 0.9/6.7 MB 1.7 MB/s eta 0:00:04\n",
      "     ------ --------------------------------- 1.0/6.7 MB 1.8 MB/s eta 0:00:04\n",
      "     ------- -------------------------------- 1.2/6.7 MB 1.9 MB/s eta 0:00:03\n",
      "     ------- -------------------------------- 1.3/6.7 MB 2.0 MB/s eta 0:00:03\n",
      "     -------- ------------------------------- 1.4/6.7 MB 2.1 MB/s eta 0:00:03\n",
      "     -------- ------------------------------- 1.5/6.7 MB 2.0 MB/s eta 0:00:03\n",
      "     --------- ------------------------------ 1.6/6.7 MB 2.0 MB/s eta 0:00:03\n",
      "     ---------- ----------------------------- 1.8/6.7 MB 2.1 MB/s eta 0:00:03\n",
      "     ----------- ---------------------------- 1.9/6.7 MB 2.2 MB/s eta 0:00:03\n",
      "     ------------ --------------------------- 2.1/6.7 MB 2.2 MB/s eta 0:00:03\n",
      "     ------------- -------------------------- 2.3/6.7 MB 2.3 MB/s eta 0:00:02\n",
      "     -------------- ------------------------- 2.4/6.7 MB 2.3 MB/s eta 0:00:02\n",
      "     --------------- ------------------------ 2.6/6.7 MB 2.4 MB/s eta 0:00:02\n",
      "     ---------------- ----------------------- 2.8/6.7 MB 2.4 MB/s eta 0:00:02\n",
      "     ----------------- ---------------------- 2.9/6.7 MB 2.5 MB/s eta 0:00:02\n",
      "     ------------------ --------------------- 3.1/6.7 MB 2.5 MB/s eta 0:00:02\n",
      "     ------------------- -------------------- 3.2/6.7 MB 2.5 MB/s eta 0:00:02\n",
      "     -------------------- ------------------- 3.4/6.7 MB 2.6 MB/s eta 0:00:02\n",
      "     --------------------- ------------------ 3.6/6.7 MB 2.6 MB/s eta 0:00:02\n",
      "     ---------------------- ----------------- 3.7/6.7 MB 2.6 MB/s eta 0:00:02\n",
      "     ----------------------- ---------------- 3.9/6.7 MB 2.7 MB/s eta 0:00:02\n",
      "     ----------------------- ---------------- 4.0/6.7 MB 2.7 MB/s eta 0:00:01\n",
      "     ------------------------ --------------- 4.2/6.7 MB 2.7 MB/s eta 0:00:01\n",
      "     ------------------------- -------------- 4.4/6.7 MB 2.7 MB/s eta 0:00:01\n",
      "     -------------------------- ------------- 4.5/6.7 MB 2.8 MB/s eta 0:00:01\n",
      "     --------------------------- ------------ 4.7/6.7 MB 2.8 MB/s eta 0:00:01\n",
      "     ---------------------------- ----------- 4.8/6.7 MB 2.8 MB/s eta 0:00:01\n",
      "     ----------------------------- ---------- 5.0/6.7 MB 2.8 MB/s eta 0:00:01\n",
      "     ------------------------------ --------- 5.2/6.7 MB 2.8 MB/s eta 0:00:01\n",
      "     ------------------------------- -------- 5.3/6.7 MB 2.9 MB/s eta 0:00:01\n",
      "     -------------------------------- ------- 5.5/6.7 MB 2.9 MB/s eta 0:00:01\n",
      "     --------------------------------- ------ 5.7/6.7 MB 2.9 MB/s eta 0:00:01\n",
      "     ---------------------------------- ----- 5.8/6.7 MB 2.9 MB/s eta 0:00:01\n",
      "     ----------------------------------- ---- 6.0/6.7 MB 2.9 MB/s eta 0:00:01\n",
      "     ------------------------------------ --- 6.1/6.7 MB 2.9 MB/s eta 0:00:01\n",
      "     ------------------------------------- -- 6.3/6.7 MB 2.9 MB/s eta 0:00:01\n",
      "     -------------------------------------- - 6.4/6.7 MB 2.9 MB/s eta 0:00:01\n",
      "     -------------------------------------- - 6.5/6.7 MB 2.9 MB/s eta 0:00:01\n",
      "     ---------------------------------------  6.7/6.7 MB 2.9 MB/s eta 0:00:01\n",
      "     ---------------------------------------- 6.7/6.7 MB 2.9 MB/s eta 0:00:00\n",
      "  Installing build dependencies: started\n",
      "  Installing build dependencies: finished with status 'done'\n",
      "  Getting requirements to build wheel: started\n",
      "  Getting requirements to build wheel: finished with status 'error'\n"
     ]
    },
    {
     "name": "stderr",
     "output_type": "stream",
     "text": [
      "  error: subprocess-exited-with-error\n",
      "  \n",
      "  Getting requirements to build wheel did not run successfully.\n",
      "  exit code: 1\n",
      "  \n",
      "  [33 lines of output]\n",
      "  Traceback (most recent call last):\n",
      "    File \"D:\\Anaconda\\Lib\\site-packages\\pip\\_vendor\\pyproject_hooks\\_in_process\\_in_process.py\", line 353, in <module>\n",
      "      main()\n",
      "    File \"D:\\Anaconda\\Lib\\site-packages\\pip\\_vendor\\pyproject_hooks\\_in_process\\_in_process.py\", line 335, in main\n",
      "      json_out['return_val'] = hook(**hook_input['kwargs'])\n",
      "                               ^^^^^^^^^^^^^^^^^^^^^^^^^^^^\n",
      "    File \"D:\\Anaconda\\Lib\\site-packages\\pip\\_vendor\\pyproject_hooks\\_in_process\\_in_process.py\", line 112, in get_requires_for_build_wheel\n",
      "      backend = _build_backend()\n",
      "                ^^^^^^^^^^^^^^^^\n",
      "    File \"D:\\Anaconda\\Lib\\site-packages\\pip\\_vendor\\pyproject_hooks\\_in_process\\_in_process.py\", line 77, in _build_backend\n",
      "      obj = import_module(mod_path)\n",
      "            ^^^^^^^^^^^^^^^^^^^^^^^\n",
      "    File \"D:\\Anaconda\\Lib\\importlib\\__init__.py\", line 90, in import_module\n",
      "      return _bootstrap._gcd_import(name[level:], package, level)\n",
      "             ^^^^^^^^^^^^^^^^^^^^^^^^^^^^^^^^^^^^^^^^^^^^^^^^^^^^\n",
      "    File \"<frozen importlib._bootstrap>\", line 1387, in _gcd_import\n",
      "    File \"<frozen importlib._bootstrap>\", line 1360, in _find_and_load\n",
      "    File \"<frozen importlib._bootstrap>\", line 1310, in _find_and_load_unlocked\n",
      "    File \"<frozen importlib._bootstrap>\", line 488, in _call_with_frames_removed\n",
      "    File \"<frozen importlib._bootstrap>\", line 1387, in _gcd_import\n",
      "    File \"<frozen importlib._bootstrap>\", line 1360, in _find_and_load\n",
      "    File \"<frozen importlib._bootstrap>\", line 1331, in _find_and_load_unlocked\n",
      "    File \"<frozen importlib._bootstrap>\", line 935, in _load_unlocked\n",
      "    File \"<frozen importlib._bootstrap_external>\", line 995, in exec_module\n",
      "    File \"<frozen importlib._bootstrap>\", line 488, in _call_with_frames_removed\n",
      "    File \"C:\\Users\\USER\\AppData\\Local\\Temp\\pip-build-env-rmnbwzcv\\overlay\\Lib\\site-packages\\setuptools\\__init__.py\", line 16, in <module>\n",
      "      import setuptools.version\n",
      "    File \"C:\\Users\\USER\\AppData\\Local\\Temp\\pip-build-env-rmnbwzcv\\overlay\\Lib\\site-packages\\setuptools\\version.py\", line 1, in <module>\n",
      "      import pkg_resources\n",
      "    File \"C:\\Users\\USER\\AppData\\Local\\Temp\\pip-build-env-rmnbwzcv\\overlay\\Lib\\site-packages\\pkg_resources\\__init__.py\", line 2172, in <module>\n",
      "      register_finder(pkgutil.ImpImporter, find_on_path)\n",
      "                      ^^^^^^^^^^^^^^^^^^^\n",
      "  AttributeError: module 'pkgutil' has no attribute 'ImpImporter'. Did you mean: 'zipimporter'?\n",
      "  [end of output]\n",
      "  \n",
      "  note: This error originates from a subprocess, and is likely not a problem with pip.\n",
      "error: subprocess-exited-with-error\n",
      "\n",
      "Getting requirements to build wheel did not run successfully.\n",
      "exit code: 1\n",
      "\n",
      "See above for output.\n",
      "\n",
      "note: This error originates from a subprocess, and is likely not a problem with pip.\n"
     ]
    }
   ],
   "source": [
    "!pip install scikit-learn==1.0.2"
   ]
  },
  {
   "cell_type": "code",
   "execution_count": 3,
   "id": "07377df7-6443-4122-adaa-f11d713702f1",
   "metadata": {},
   "outputs": [],
   "source": [
    "import numpy as np\n",
    "import matplotlib.pyplot as plt\n",
    "from sklearn import datasets\n",
    "from sklearn.svm import SVC\n",
    "from sklearn.linear_model import LogisticRegression\n",
    "from sklearn.metrics import accuracy_score\n",
    "import pandas as pd"
   ]
  },
  {
   "cell_type": "code",
   "execution_count": 4,
   "id": "acb855ee-76d9-412f-bce5-84a00f8be40b",
   "metadata": {},
   "outputs": [],
   "source": [
    "plot_colors = \"ryb\"\n",
    "plot_step = 0.02\n",
    "\n",
    "def decision_boundary (X,y,model,iris, two=None):\n",
    "    x_min, x_max = X[:, 0].min() - 1, X[:, 0].max() + 1\n",
    "    y_min, y_max = X[:, 1].min() - 1, X[:, 1].max() + 1\n",
    "    xx, yy = np.meshgrid(np.arange(x_min, x_max, plot_step),\n",
    "                         np.arange(y_min, y_max, plot_step))\n",
    "    plt.tight_layout(h_pad=0.5, w_pad=0.5, pad=2.5)\n",
    "    \n",
    "    Z = model.predict(np.c_[xx.ravel(), yy.ravel()])\n",
    "    Z = Z.reshape(xx.shape)\n",
    "    cs = plt.contourf(xx, yy, Z,cmap=plt.cm.RdYlBu)\n",
    "    \n",
    "    if two:\n",
    "        cs = plt.contourf(xx, yy, Z,cmap=plt.cm.RdYlBu)\n",
    "        for i, color in zip(np.unique(y), plot_colors):\n",
    "            \n",
    "            idx = np.where( y== i)\n",
    "            plt.scatter(X[idx, 0], X[idx, 1], label=y,cmap=plt.cm.RdYlBu, s=15)\n",
    "        plt.show()\n",
    "  \n",
    "    else:\n",
    "        set_={0,1,2}\n",
    "        print(set_)\n",
    "        for i, color in zip(range(3), plot_colors):\n",
    "            idx = np.where( y== i)\n",
    "            if np.any(idx):\n",
    "\n",
    "                set_.remove(i)\n",
    "\n",
    "                plt.scatter(X[idx, 0], X[idx, 1], label=y,cmap=plt.cm.RdYlBu, edgecolor='black', s=15)\n",
    "\n",
    "\n",
    "        for  i in set_:\n",
    "            idx = np.where( iris.target== i)\n",
    "            plt.scatter(X[idx, 0], X[idx, 1], marker='x',color='black')\n",
    "\n",
    "        plt.show()\n"
   ]
  },
  {
   "cell_type": "code",
   "execution_count": 5,
   "id": "98fe424d-9a5a-4b98-98e5-9a47717d5cd5",
   "metadata": {},
   "outputs": [],
   "source": [
    "def plot_probability_array(X,probability_array):\n",
    "\n",
    "    plot_array=np.zeros((X.shape[0],30))\n",
    "    col_start=0\n",
    "    ones=np.ones((X.shape[0],30))\n",
    "    for class_,col_end in enumerate([10,20,30]):\n",
    "        plot_array[:,col_start:col_end]= np.repeat(probability_array[:,class_].reshape(-1,1), 10,axis=1)\n",
    "        col_start=col_end\n",
    "    plt.imshow(plot_array)\n",
    "    plt.xticks([])\n",
    "    plt.ylabel(\"samples\")\n",
    "    plt.xlabel(\"probability of 3 classes\")\n",
    "    plt.colorbar()\n",
    "    plt.show()"
   ]
  },
  {
   "cell_type": "code",
   "execution_count": 10,
   "id": "0a8528dc-ffa5-4ab4-bb0b-ce79534eb18a",
   "metadata": {},
   "outputs": [
    {
     "data": {
      "text/plain": [
       "array([0, 1, 2])"
      ]
     },
     "execution_count": 10,
     "metadata": {},
     "output_type": "execute_result"
    }
   ],
   "source": [
    "pair=[1, 3]\n",
    "iris = datasets.load_iris()\n",
    "X = iris.data[:, pair]\n",
    "y = iris.target\n",
    "np.unique(y)"
   ]
  },
  {
   "cell_type": "code",
   "execution_count": 12,
   "id": "6b8e41e3-3405-40ce-ad51-42b1b2b3c65c",
   "metadata": {},
   "outputs": [
    {
     "data": {
      "text/plain": [
       "Text(0, 0.5, 'petal width')"
      ]
     },
     "execution_count": 12,
     "metadata": {},
     "output_type": "execute_result"
    },
    {
     "data": {
      "image/png": "[encoded data removed]",
      "text/plain": [
       "<Figure size 640x480 with 1 Axes>"
      ]
     },
     "metadata": {},
     "output_type": "display_data"
    }
   ],
   "source": [
    "plt.scatter(X[:, 0], X[:, 1], c=y, cmap=plt.cm.RdYlBu)\n",
    "plt.xlabel(\"sepal width (cm)\")\n",
    "plt.ylabel(\"petal width\")"
   ]
  },
  {
   "cell_type": "code",
   "execution_count": 14,
   "id": "a664e884-1d70-4da6-b8f2-5368f458d2a0",
   "metadata": {},
   "outputs": [],
   "source": [
    "lr = LogisticRegression(random_state=0).fit(X, y)"
   ]
  },
  {
   "cell_type": "code",
   "execution_count": 16,
   "id": "76001419-64d5-4242-8113-9394d5136986",
   "metadata": {},
   "outputs": [],
   "source": [
    "probability=lr.predict_proba(X)\n"
   ]
  },
  {
   "cell_type": "code",
   "execution_count": 18,
   "id": "78350720-c1a8-4d33-bf75-25332b80ff0b",
   "metadata": {},
   "outputs": [
    {
     "data": {
      "image/png": "[encoded data removed]",
      "text/plain": [
       "<Figure size 640x480 with 2 Axes>"
      ]
     },
     "metadata": {},
     "output_type": "display_data"
    }
   ],
   "source": [
    "plot_probability_array(X,probability)"
   ]
  },
  {
   "cell_type": "code",
   "execution_count": 20,
   "id": "301fc845-8201-49af-8039-5b8cd99a1943",
   "metadata": {},
   "outputs": [
    {
     "data": {
      "text/plain": [
       "array([9.57579132e-01, 4.23242810e-02, 9.65866230e-05])"
      ]
     },
     "execution_count": 20,
     "metadata": {},
     "output_type": "execute_result"
    }
   ],
   "source": [
    "probability[0,:]"
   ]
  },
  {
   "cell_type": "code",
   "execution_count": 22,
   "id": "dff0aa73-ac38-405e-b6f7-be282eff2c1a",
   "metadata": {},
   "outputs": [
    {
     "data": {
      "text/plain": [
       "1.0000000000000002"
      ]
     },
     "execution_count": 22,
     "metadata": {},
     "output_type": "execute_result"
    }
   ],
   "source": [
    "probability[0,:].sum()"
   ]
  },
  {
   "cell_type": "code",
   "execution_count": 24,
   "id": "0f5d3b7e-3e90-4c77-b1c9-6b30a74a8710",
   "metadata": {},
   "outputs": [
    {
     "data": {
      "text/plain": [
       "array([9.57579132e-01, 4.23242810e-02, 9.65866230e-05])"
      ]
     },
     "execution_count": 24,
     "metadata": {},
     "output_type": "execute_result"
    }
   ],
   "source": [
    "probability[0,:]"
   ]
  },
  {
   "cell_type": "code",
   "execution_count": 26,
   "id": "67785ffa-b82a-4511-8f44-ce9e89759ffa",
   "metadata": {},
   "outputs": [
    {
     "data": {
      "text/plain": [
       "0"
      ]
     },
     "execution_count": 26,
     "metadata": {},
     "output_type": "execute_result"
    }
   ],
   "source": [
    "np.argmax(probability[0,:])"
   ]
  },
  {
   "cell_type": "code",
   "execution_count": 32,
   "id": "2d930758-43bd-418b-a97e-c12a3d7b8da0",
   "metadata": {},
   "outputs": [
    {
     "data": {
      "text/plain": [
       "array([0, 0, 0, 0, 0, 0, 0, 0, 0, 0, 0, 0, 0, 0, 0, 0, 0, 0, 0, 0, 0, 0,\n",
       "       0, 0, 0, 0, 0, 0, 0, 0, 0, 0, 0, 0, 0, 0, 0, 0, 0, 0, 0, 0, 0, 0,\n",
       "       0, 0, 0, 0, 0, 0, 1, 1, 1, 1, 1, 1, 1, 1, 1, 1, 1, 1, 1, 1, 1, 1,\n",
       "       1, 1, 1, 1, 2, 1, 1, 1, 1, 1, 1, 2, 1, 1, 1, 1, 1, 1, 1, 1, 1, 1,\n",
       "       1, 1, 1, 1, 1, 1, 1, 1, 1, 1, 1, 1, 2, 2, 2, 2, 2, 2, 2, 2, 2, 2,\n",
       "       2, 2, 2, 2, 2, 2, 2, 2, 2, 1, 2, 2, 2, 2, 2, 2, 2, 2, 2, 1, 2, 2,\n",
       "       2, 1, 1, 2, 2, 2, 2, 2, 2, 2, 2, 2, 2, 2, 2, 2, 2, 2], dtype=int64)"
      ]
     },
     "execution_count": 32,
     "metadata": {},
     "output_type": "execute_result"
    }
   ],
   "source": [
    "softmax_prediction=np.argmax(probability,axis=1)\n",
    "softmax_prediction"
   ]
  },
  {
   "cell_type": "code",
   "execution_count": 30,
   "id": "0c57b0e9-6b69-45a3-9df0-06387582570a",
   "metadata": {},
   "outputs": [
    {
     "data": {
      "text/plain": [
       "1.0"
      ]
     },
     "execution_count": 30,
     "metadata": {},
     "output_type": "execute_result"
    }
   ],
   "source": [
    "yhat =lr.predict(X)\n",
    "accuracy_score(yhat,softmax_prediction)"
   ]
  },
  {
   "cell_type": "code",
   "execution_count": null,
   "id": "cfebe745-5206-4c1e-a302-cb3518324260",
   "metadata": {},
   "outputs": [],
   "source": [
    "pairs=[]\n",
    "left_overs=classes_.copy()\n",
    "#list used for classifiers \n",
    "my_models=[]\n",
    "#iterate through each class\n",
    "for class_ in classes_:\n",
    "    #remove class we have seen before \n",
    "    left_overs.remove(class_)\n",
    "    #the second class in the pair\n",
    "    for second_class in left_overs:\n",
    "        pairs.append(str(class_)+' and '+str(second_class))\n",
    "        print(\"class {} vs class {} \".format(class_,second_class) )\n",
    "        temp_y=np.zeros(y.shape)\n",
    "        #find classes in pair \n",
    "        select=np.logical_or(y==class_ , y==second_class)\n",
    "        #train model \n",
    "        model=SVC(kernel='linear', gamma=.5, probability=True)  \n",
    "        model.fit(X[select,:],y[select])\n",
    "        my_models.append(model)\n",
    "        #Plot decision boundary for each pair and corresponding Training samples. \n",
    "        decision_boundary (X[select,:],y[select],model,iris,two=True)\n",
    "   \n",
    "        \n",
    "    "
   ]
  },
  {
   "cell_type": "code",
   "execution_count": null,
   "id": "28a1edaa-ca86-4f24-b73e-2294db332d32",
   "metadata": {},
   "outputs": [],
   "source": []
  }
 ],
 "metadata": {
  "kernelspec": {
   "display_name": "Python 3 (ipykernel)",
   "language": "python",
   "name": "python3"
  },
  "language_info": {
   "codemirror_mode": {
    "name": "ipython",
    "version": 3
   },
   "file_extension": ".py",
   "mimetype": "text/x-python",
   "name": "python",
   "nbconvert_exporter": "python",
   "pygments_lexer": "ipython3",
   "version": "3.12.4"
  }
 },
 "nbformat": 4,
 "nbformat_minor": 5
}
